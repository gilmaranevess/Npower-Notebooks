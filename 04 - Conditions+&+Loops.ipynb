{
 "cells": [
  {
   "cell_type": "code",
   "execution_count": 12,
   "metadata": {},
   "outputs": [
    {
     "name": "stdout",
     "output_type": "stream",
     "text": [
      "The sum of the numbers is: 60\n"
     ]
    }
   ],
   "source": [
    "#Q1 Given two integer numbers. If any of the numbers are greater than 50 return their product, else return their sum\n",
    "number1= 20\n",
    "number2= 40\n",
    "\n",
    "if (number1>50 or number2>50):\n",
    "    x = (number1 * number2)\n",
    "    print(\"The product of the numbers is:\", x)\n",
    "    \n",
    "else:\n",
    "    x = number1 + number2\n",
    "    print(\"The sum of the numbers is:\", x)"
   ]
  },
  {
   "cell_type": "code",
   "execution_count": 29,
   "metadata": {},
   "outputs": [
    {
     "data": {
      "text/plain": [
       "True"
      ]
     },
     "execution_count": 29,
     "metadata": {},
     "output_type": "execute_result"
    }
   ],
   "source": [
    "#Q2 Given a list of numbers, return True if first and last number of a list is same\n",
    "\n",
    "list=[1,2,5,4,1]\n",
    "len_list = (len(list) - 1)\n",
    "\n",
    "\n",
    "def comparison(list_func):\n",
    "    if (list[0] == list[len_list]):\n",
    "        return True\n",
    "    else:\n",
    "        print(\"The first item is not equal to the last item of the list\")\n",
    "\n",
    "comparison(list)"
   ]
  },
  {
   "cell_type": "code",
   "execution_count": 37,
   "metadata": {},
   "outputs": [
    {
     "name": "stdout",
     "output_type": "stream",
     "text": [
      "The sum between element 1 and element 2 is: 3\n",
      "The sum between element 2 and element 3 is: 5\n",
      "The sum between element 3 and element 4 is: 7\n",
      "The sum between element 4 and element 5 is: 9\n",
      "The sum between element 5 and element 6 is: 11\n",
      "The sum between element 6 and element 7 is: 13\n",
      "The sum between element 7 and element 8 is: 15\n",
      "The sum between element 8 and element 9 is: 17\n",
      "The sum between element 9 and element 10 is: 19\n"
     ]
    }
   ],
   "source": [
    "#Q3 Given a range of the first 10 numbers[1:10], Iterate from the start number to the end number, \n",
    "#and In each iteration print the sum of the current number and previous number\n",
    "\n",
    "list = range(1,10)\n",
    "for i in list:\n",
    "    next = i+1\n",
    "    print(\"The sum between element\", i, \"and element\", next, \"is:\", i+next)\n"
   ]
  },
  {
   "cell_type": "code",
   "execution_count": 63,
   "metadata": {},
   "outputs": [
    {
     "name": "stdout",
     "output_type": "stream",
     "text": [
      "Displaying even numbers in the word NPowerCanada - element: 0 is N\n",
      "Displaying even numbers in the word NPowerCanada - element: 2 is o\n",
      "Displaying even numbers in the word NPowerCanada - element: 4 is e\n",
      "Displaying even numbers in the word NPowerCanada - element: 6 is C\n",
      "Displaying even numbers in the word NPowerCanada - element: 8 is n\n",
      "Displaying even numbers in the word NPowerCanada - element: 10 is d\n"
     ]
    }
   ],
   "source": [
    "#Q4 Given a string name, display only those characters which are present at an even index number\n",
    "name=\"NPowerCanada\"\n",
    "\n",
    "\n",
    "for i, x in enumerate(name):\n",
    "    if i%2 == 0:\n",
    "        print(\"Displaying even numbers in the word\", name, \"- element:\", i, \"is\", x)\n",
    "\n",
    "   "
   ]
  },
  {
   "cell_type": "code",
   "execution_count": 165,
   "metadata": {},
   "outputs": [
    {
     "name": "stdout",
     "output_type": "stream",
     "text": [
      "OldString: PythonCourse \n",
      "New String: Course\n"
     ]
    }
   ],
   "source": [
    "#Q5 Given a string oldString and an integer number n, \n",
    "#remove characters from a string starting from zero up to n and return a newString\n",
    "# oldString=\"PythonCourse\"\n",
    "#n=6\n",
    "\n",
    "oldString=\"PythonCourse\"\n",
    "n=6\n",
    "\n",
    "def removeString(string, n_element):\n",
    "    return string[n_element:]\n",
    "\n",
    "print(\"OldString:\", oldString, \"\\nNew String:\", removeString(oldString, n))\n",
    "\n"
   ]
  },
  {
   "cell_type": "code",
   "execution_count": 167,
   "metadata": {},
   "outputs": [
    {
     "name": "stdout",
     "output_type": "stream",
     "text": [
      "*\n",
      "**\n",
      "***\n",
      "****\n"
     ]
    }
   ],
   "source": [
    "#Q6 Print the follwoing pattern\n",
    "\n",
    "#*\n",
    "#**\n",
    "#***\n",
    "#****\n",
    "ast = \"*\"\n",
    "for i in range(4):\n",
    "    print(ast)\n",
    "    ast += '*'"
   ]
  },
  {
   "cell_type": "code",
   "execution_count": 181,
   "metadata": {},
   "outputs": [
    {
     "name": "stdout",
     "output_type": "stream",
     "text": [
      "The original list is: [90, 70, 50, 60]\n",
      "\n",
      "The reversed list is: [60, 50, 70, 90]\n"
     ]
    }
   ],
   "source": [
    "#Q7 Reverse the following list using for loop\n",
    "#list1=[90,70,50,60]\n",
    "\n",
    "\n",
    "list1=[90,70,50,60]\n",
    "len_list = len(list1)\n",
    "\n",
    "def reverse(list, lenList):\n",
    "    reverse_list = []\n",
    "    for i in list:\n",
    "        lenList -= 1\n",
    "        reverse_list.append(list[lenList])\n",
    "    return reverse_list\n",
    "\n",
    "print(\"The original list is:\", list1)\n",
    "print(\"\\nThe reversed list is:\", reverse(list1, len_list))"
   ]
  },
  {
   "cell_type": "code",
   "execution_count": 184,
   "metadata": {},
   "outputs": [
    {
     "name": "stdout",
     "output_type": "stream",
     "text": [
      "Displaying the numbers from -10 to -1: \n",
      "-10\n",
      "-9\n",
      "-8\n",
      "-7\n",
      "-6\n",
      "-5\n",
      "-4\n",
      "-3\n",
      "-2\n",
      "-1\n"
     ]
    }
   ],
   "source": [
    "#Q8 Display numbers from -10 to -1 using for loop [hint use range method]\n",
    "range1 = -10\n",
    "range2 = 0\n",
    "\n",
    "print(\"Displaying the numbers from -10 to -1: \")\n",
    "for i in range(range1, range2):\n",
    "    print(i)\n",
    "    "
   ]
  },
  {
   "cell_type": "code",
   "execution_count": null,
   "metadata": {},
   "outputs": [],
   "source": []
  }
 ],
 "metadata": {
  "kernelspec": {
   "display_name": "Python 3",
   "language": "python",
   "name": "python3"
  },
  "language_info": {
   "codemirror_mode": {
    "name": "ipython",
    "version": 3
   },
   "file_extension": ".py",
   "mimetype": "text/x-python",
   "name": "python",
   "nbconvert_exporter": "python",
   "pygments_lexer": "ipython3",
   "version": "3.8.5"
  }
 },
 "nbformat": 4,
 "nbformat_minor": 4
}
