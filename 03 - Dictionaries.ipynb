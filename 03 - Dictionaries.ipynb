{
 "cells": [
  {
   "cell_type": "code",
   "execution_count": 1,
   "metadata": {},
   "outputs": [
    {
     "name": "stdout",
     "output_type": "stream",
     "text": [
      "Npower dictionary: {'A': ('Adam', 'Akinkya', 'Akash', 'Alka'), 'C': 'Chloe', 'D': ('Dami', 'Divya'), 'E': 'Edward', 'G': ('Garav', 'Gilmara'), 'I': 'Imara', 'J': 'Jainam', 'L': 'Leul', 'M': ('Mehrnaz', 'Muhammad')}\n"
     ]
    }
   ],
   "source": [
    "#Q1 Create a dictionary for all participants in the JDA program.\n",
    "#Keys should be the first letter in their names, Values should be their names.\n",
    "#[Hint] dic={\"l\":(Leul),\"J\":(Jerry,Jainam)........}\n",
    "\n",
    "dic = {\"A\": ('Adam', 'Akinkya', 'Akash', 'Alka'), \"C\": 'Chloe', \"D\": ('Dami', 'Divya'), \"E\": 'Edward', \\\n",
    "       \"G\": ('Garav', 'Gilmara'), \"I\": 'Imara', \"J\": 'Jainam', \"L\": 'Leul', \"M\": ('Mehrnaz', 'Muhammad')}\n",
    "\n",
    "print('Npower dictionary:', dic)"
   ]
  },
  {
   "cell_type": "code",
   "execution_count": 2,
   "metadata": {},
   "outputs": [
    {
     "name": "stdout",
     "output_type": "stream",
     "text": [
      "The keys of the Npower dictionary are: dict_keys(['A', 'C', 'D', 'E', 'G', 'I', 'J', 'L', 'M'])\n"
     ]
    }
   ],
   "source": [
    "#Q2 What are the keys of your dictionary\n",
    "\n",
    "print('The keys of the Npower dictionary are:', dic.keys())"
   ]
  },
  {
   "cell_type": "code",
   "execution_count": 3,
   "metadata": {},
   "outputs": [
    {
     "name": "stdout",
     "output_type": "stream",
     "text": [
      "The values of the Npower dictionary are: dict_values([('Adam', 'Akinkya', 'Akash', 'Alka'), 'Chloe', ('Dami', 'Divya'), 'Edward', ('Garav', 'Gilmara'), 'Imara', 'Jainam', 'Leul', ('Mehrnaz', 'Muhammad')])\n"
     ]
    }
   ],
   "source": [
    "#Q3 What are the values of your dictionary\n",
    "\n",
    "print('The values of the Npower dictionary are:',dic.values())"
   ]
  },
  {
   "cell_type": "code",
   "execution_count": 4,
   "metadata": {},
   "outputs": [
    {
     "name": "stdout",
     "output_type": "stream",
     "text": [
      "Some of the participants of the Npower dictionary are: Jainam Imara ('Mehrnaz', 'Muhammad') Chloe ('Adam', 'Akinkya', 'Akash', 'Alka')\n"
     ]
    }
   ],
   "source": [
    "#Q4 Find participant's names that start with J,I,M,C,A\n",
    "\n",
    "print('Some of the participants of the Npower dictionary are:', dic[\"J\"], dic[\"I\"], dic[\"M\"], dic[\"C\"], dic[\"A\"])"
   ]
  },
  {
   "cell_type": "code",
   "execution_count": 5,
   "metadata": {},
   "outputs": [
    {
     "name": "stdout",
     "output_type": "stream",
     "text": [
      "Kristina was added to the dictionary\n",
      "{'A': ('Adam', 'Akinkya', 'Akash', 'Alka'), 'C': 'Chloe', 'D': ('Dami', 'Divya'), 'E': 'Edward', 'G': ('Garav', 'Gilmara'), 'I': 'Imara', 'J': 'Jainam', 'L': 'Leul', 'M': ('Mehrnaz', 'Muhammad'), 'K, PD': 'Kristina'}\n"
     ]
    }
   ],
   "source": [
    "#Q5 Add the following to your dictionary \n",
    "# Key<(K,PD)>, Value<(Kristina)>\n",
    "\n",
    "\n",
    "if 'Kristina' not in dic.values():\n",
    "    dic[(\"K, PD\")] = \"Kristina\"\n",
    "    print(dic[(\"K, PD\")], \"was added to the dictionary\")\n",
    "else:\n",
    "    print(dic[(\"K, PD\")], \"is already in the dictionary\")\n",
    "    \n",
    "    \n",
    "print(dic)"
   ]
  },
  {
   "cell_type": "code",
   "execution_count": 6,
   "metadata": {},
   "outputs": [
    {
     "name": "stdout",
     "output_type": "stream",
     "text": [
      "The length of the dictionary is: 10\n"
     ]
    }
   ],
   "source": [
    "#Q6 Find the length of your dictionary  \n",
    "\n",
    "print(\"The length of the dictionary is:\", len(dic))"
   ]
  },
  {
   "cell_type": "code",
   "execution_count": 7,
   "metadata": {},
   "outputs": [
    {
     "name": "stdout",
     "output_type": "stream",
     "text": [
      "Sarah was added to the dictionary\n",
      "{'A': ('Adam', 'Akinkya', 'Akash', 'Alka'), 'C': 'Chloe', 'D': ('Dami', 'Divya'), 'E': 'Edward', 'G': ('Garav', 'Gilmara'), 'I': 'Imara', 'J': 'Jainam', 'L': 'Leul', 'M': ('Mehrnaz', 'Muhammad'), 'K, PD': 'Kristina', 'S, Instructor': 'Sarah'}\n"
     ]
    }
   ],
   "source": [
    "#Q7 Add the following to your dictionary \n",
    "# Key<(S,Instructor)>, Value<(Sarah)>\n",
    "\n",
    "if 'Sarah' not in dic.values():\n",
    "    dic[(\"S, Instructor\")] = \"Sarah\"\n",
    "    print(dic[(\"S, Instructor\")], \"was added to the dictionary\")\n",
    "\n",
    "else:\n",
    "    print(dic[(\"S, Instructor\")], \"is already in the dictionary\")\n",
    "\n",
    "print(dic)"
   ]
  },
  {
   "cell_type": "code",
   "execution_count": 8,
   "metadata": {},
   "outputs": [
    {
     "name": "stdout",
     "output_type": "stream",
     "text": [
      "The length of the dictionary is: 11\n"
     ]
    }
   ],
   "source": [
    "#Q8 Find the length of your dictionary  \n",
    "\n",
    "print(\"The length of the dictionary is:\", len(dic))"
   ]
  },
  {
   "cell_type": "code",
   "execution_count": 9,
   "metadata": {},
   "outputs": [
    {
     "name": "stdout",
     "output_type": "stream",
     "text": [
      "Sarah was deleted from the dictionary\n",
      "Jainam was deleted from the disctionary\n",
      "\n",
      " Updated dictionary {'A': ('Adam', 'Akinkya', 'Akash', 'Alka'), 'C': 'Chloe', 'D': ('Dami', 'Divya'), 'E': 'Edward', 'G': ('Garav', 'Gilmara'), 'I': 'Imara', 'L': 'Leul', 'M': ('Mehrnaz', 'Muhammad'), 'K, PD': 'Kristina'}\n"
     ]
    }
   ],
   "source": [
    "#Q7 Delete the following keys from your dictionary \n",
    "#Key<(S,Instructor)>\n",
    "#Key<J>\n",
    "\n",
    "if \"S, Instructor\" in dic:\n",
    "    print(dic[\"S, Instructor\"], \"was deleted from the dictionary\")\n",
    "    del(dic[\"S, Instructor\"])\n",
    "    \n",
    "    \n",
    "if \"J\" in dic:\n",
    "    print(dic[\"J\"], \"was deleted from the disctionary\")\n",
    "    del(dic[\"J\"])\n",
    "  \n",
    "    \n",
    "print('\\n Updated dictionary', dic)"
   ]
  },
  {
   "cell_type": "code",
   "execution_count": 10,
   "metadata": {},
   "outputs": [
    {
     "data": {
      "text/plain": [
       "9"
      ]
     },
     "execution_count": 10,
     "metadata": {},
     "output_type": "execute_result"
    }
   ],
   "source": [
    "#Q9 Find the length of your dictionary  \n",
    "\n",
    "len(dic)"
   ]
  },
  {
   "cell_type": "code",
   "execution_count": 11,
   "metadata": {},
   "outputs": [],
   "source": [
    "#Q10 Create a new dictionary called synonyms_dic\n",
    "\n",
    "synonyms_dic = {}"
   ]
  },
  {
   "cell_type": "code",
   "execution_count": 12,
   "metadata": {},
   "outputs": [
    {
     "data": {
      "text/plain": [
       "{'Bad': 'Mean',\n",
       " 'Good': 'Fine',\n",
       " 'Awesome': 'Amazing',\n",
       " 'Cold': 'Freezing',\n",
       " 'Easy': 'Effortless',\n",
       " 'Hard': 'Solid',\n",
       " 'Big': 'Large',\n",
       " 'Small': 'Little'}"
      ]
     },
     "execution_count": 12,
     "metadata": {},
     "output_type": "execute_result"
    }
   ],
   "source": [
    "#Q11 Add the synonyms of the following words to your dictionary \n",
    "#Bad, Good, Awesome, Cold, Easy, Hard, Big, Small\n",
    "\n",
    "synonyms_dic[\"Bad\"] = \"Mean\"\n",
    "synonyms_dic[\"Good\"] = \"Fine\"\n",
    "synonyms_dic[\"Awesome\"] = \"Amazing\"\n",
    "synonyms_dic[\"Cold\"] = \"Freezing\"\n",
    "synonyms_dic[\"Easy\"] = \"Effortless\"\n",
    "synonyms_dic[\"Hard\"] = \"Solid\"\n",
    "synonyms_dic[\"Big\"] = \"Large\"\n",
    "synonyms_dic[\"Small\"] = \"Little\"\n",
    "\n",
    "synonyms_dic"
   ]
  },
  {
   "cell_type": "code",
   "execution_count": 13,
   "metadata": {},
   "outputs": [
    {
     "name": "stdout",
     "output_type": "stream",
     "text": [
      "Amazing Effortless Little Freezing\n"
     ]
    }
   ],
   "source": [
    "#Q12 Use your dictionary to find the synonym of the following words \n",
    "# Awesome, Easy, Small, Old (Cold?)\n",
    "\n",
    "print(synonyms_dic[\"Awesome\"], synonyms_dic[\"Easy\"], synonyms_dic[\"Small\"], synonyms_dic[\"Cold\"])"
   ]
  },
  {
   "cell_type": "code",
   "execution_count": 14,
   "metadata": {},
   "outputs": [],
   "source": [
    "#Q13 Delete everything from synonyms_dic\n",
    "\n",
    "del synonyms_dic"
   ]
  },
  {
   "cell_type": "code",
   "execution_count": 15,
   "metadata": {},
   "outputs": [
    {
     "ename": "NameError",
     "evalue": "name 'synonyms_dic' is not defined",
     "output_type": "error",
     "traceback": [
      "\u001b[1;31m---------------------------------------------------------------------------\u001b[0m",
      "\u001b[1;31mNameError\u001b[0m                                 Traceback (most recent call last)",
      "\u001b[1;32m<ipython-input-15-50599b9dec3b>\u001b[0m in \u001b[0;36m<module>\u001b[1;34m\u001b[0m\n\u001b[0;32m      1\u001b[0m \u001b[1;31m#Q14 Print all values in synonyms_dic\u001b[0m\u001b[1;33m\u001b[0m\u001b[1;33m\u001b[0m\u001b[1;33m\u001b[0m\u001b[0m\n\u001b[0;32m      2\u001b[0m \u001b[1;33m\u001b[0m\u001b[0m\n\u001b[1;32m----> 3\u001b[1;33m \u001b[0msynonyms_dic\u001b[0m\u001b[1;33m\u001b[0m\u001b[1;33m\u001b[0m\u001b[0m\n\u001b[0m\u001b[0;32m      4\u001b[0m \u001b[1;33m\u001b[0m\u001b[0m\n\u001b[0;32m      5\u001b[0m \u001b[1;31m#This will return an error, as the 'synonyms_dic' was deleted\u001b[0m\u001b[1;33m\u001b[0m\u001b[1;33m\u001b[0m\u001b[1;33m\u001b[0m\u001b[0m\n",
      "\u001b[1;31mNameError\u001b[0m: name 'synonyms_dic' is not defined"
     ]
    }
   ],
   "source": [
    "#Q14 Print all values in synonyms_dic\n",
    "\n",
    "synonyms_dic\n",
    "\n",
    "#This will return an error, as the 'synonyms_dic' was deleted"
   ]
  },
  {
   "cell_type": "code",
   "execution_count": 16,
   "metadata": {},
   "outputs": [
    {
     "name": "stdout",
     "output_type": "stream",
     "text": [
      "The result of converting lists into a dictionary is: {'True': 1, 'False': 0}\n"
     ]
    }
   ],
   "source": [
    "#Q15 Convert the below two lists into dictionary\n",
    "\n",
    "\n",
    "def Convert(keysF, valuesF):\n",
    "    res_dct = {keysF[i]: valuesF[i] for i in range(0, len(keysF))}\n",
    "    return res_dct\n",
    "         \n",
    "# Driver code\n",
    "keys=[\"True\",\"False\"]\n",
    "values=[1,0]\n",
    "\n",
    "print('The result of converting to lists into a dictionary is:', Convert(keys, values))"
   ]
  },
  {
   "cell_type": "code",
   "execution_count": 17,
   "metadata": {},
   "outputs": [
    {
     "name": "stdout",
     "output_type": "stream",
     "text": [
      "The sum of the values for the income dictionary is: 4480\n"
     ]
    }
   ],
   "source": [
    "#Q16 Sum all the values in the following dictionary\n",
    "\n",
    "income={'Jan':1000,'Feb':1500,'Mar':980,'April':1000}\n",
    "\n",
    "values = income.values()\n",
    "\n",
    "total = sum(values)\n",
    "\n",
    "print('The sum of the values for the income dictionary is:', total)"
   ]
  },
  {
   "cell_type": "code",
   "execution_count": 18,
   "metadata": {},
   "outputs": [
    {
     "name": "stdout",
     "output_type": "stream",
     "text": [
      "['110', '101', '10', '1011', '110', '1001', '111', '1101']\n",
      "code: 110 101 10 1011 110 1001 111 1101\n",
      "Decrypt:  I am hungry , I want to eat \n"
     ]
    }
   ],
   "source": [
    "#Q17 Create the following dictionary encryption={10:\"hungry\", 101:\"am\", 110:\"I\", 1011:\",\" ,1101:\"eat\", 1001:\"want\", 111:\"to\"}\n",
    "# What should the the decryption of the following code \"110 101 10 1011 110 1001 111 1101\"\n",
    "\n",
    "\n",
    "encryption = { 10:\"hungry\", 101:\"am\", 110:\"I\", 1011:\",\" ,1101:\"eat\", 1001:\"want\", 111:\"to\"}\n",
    "code = \"110 101 10 1011 110 1001 111 1101\"\n",
    "\n",
    "delimeter = \" \"\n",
    "code_list = code.split(delimeter)\n",
    "print(code_list)\n",
    "\n",
    "decrypt = \" \"\n",
    "for i in code_list:\n",
    "    decrypt = decrypt + encryption[int(i)] + delimeter\n",
    "    \n",
    "\n",
    "print(\"code:\", code)   \n",
    "print(\"Decrypt:\", decrypt)\n",
    "    "
   ]
  },
  {
   "cell_type": "code",
   "execution_count": null,
   "metadata": {},
   "outputs": [],
   "source": []
  }
 ],
 "metadata": {
  "kernelspec": {
   "display_name": "Python 3",
   "language": "python",
   "name": "python3"
  },
  "language_info": {
   "codemirror_mode": {
    "name": "ipython",
    "version": 3
   },
   "file_extension": ".py",
   "mimetype": "text/x-python",
   "name": "python",
   "nbconvert_exporter": "python",
   "pygments_lexer": "ipython3",
   "version": "3.8.5"
  }
 },
 "nbformat": 4,
 "nbformat_minor": 4
}
