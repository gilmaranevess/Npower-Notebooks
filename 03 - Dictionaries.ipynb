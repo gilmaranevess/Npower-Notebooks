{
 "cells": [
  {
   "cell_type": "code",
   "execution_count": 103,
   "metadata": {},
   "outputs": [
    {
     "name": "stdout",
     "output_type": "stream",
     "text": [
      "Npower dictionary: {'A': ('Adam', 'Akinkya', 'Akash', 'Alka'), 'C': 'Chloe', 'D': ('Dami', 'Divya'), 'E': 'Edward', 'G': ('Garav', 'Gilmara'), 'I': 'Imara', 'J': 'Jainam', 'L': 'Leul', 'M': ('Mehrnaz', 'Muhammad')}\n"
     ]
    }
   ],
   "source": [
    "#Q1 Create a dictionary for all participants in the JDA program.\n",
    "#Keys should be the first letter in their names, Values should be their names.\n",
    "#[Hint] dic={\"l\":(Leul),\"J\":(Jerry,Jainam)........}\n",
    "\n",
    "dic = {\n",
    "        \"A\": ('Adam', 'Akinkya', 'Akash', 'Alka'), \"C\": 'Chloe', \"D\": ('Dami', 'Divya'), \"E\": 'Edward', \\\n",
    "        \"G\": ('Garav', 'Gilmara'), \"I\": 'Imara', \"J\": 'Jainam', \"L\": 'Leul', \"M\": ('Mehrnaz', 'Muhammad'),\n",
    "      }\n",
    "\n",
    "print('Npower dictionary:', dic)"
   ]
  },
  {
   "cell_type": "code",
   "execution_count": 104,
   "metadata": {},
   "outputs": [
    {
     "name": "stdout",
     "output_type": "stream",
     "text": [
      "The keys of the Npower dictionary are: dict_keys(['A', 'C', 'D', 'E', 'G', 'I', 'J', 'L', 'M'])\n"
     ]
    }
   ],
   "source": [
    "#Q2 What are the keys of your dictionary\n",
    "\n",
    "print('The keys of the Npower dictionary are:', dic.keys())"
   ]
  },
  {
   "cell_type": "code",
   "execution_count": 105,
   "metadata": {},
   "outputs": [
    {
     "name": "stdout",
     "output_type": "stream",
     "text": [
      "The values of the Npower dictionary are: dict_values([('Adam', 'Akinkya', 'Akash', 'Alka'), 'Chloe', ('Dami', 'Divya'), 'Edward', ('Garav', 'Gilmara'), 'Imara', 'Jainam', 'Leul', ('Mehrnaz', 'Muhammad')])\n"
     ]
    }
   ],
   "source": [
    "#Q3 What are the values of your dictionary\n",
    "\n",
    "print('The values of the Npower dictionary are:',dic.values())"
   ]
  },
  {
   "cell_type": "code",
   "execution_count": 106,
   "metadata": {},
   "outputs": [
    {
     "name": "stdout",
     "output_type": "stream",
     "text": [
      "The participant for the key J is: Jainam\n",
      "The participant for the key I is: Imara\n",
      "The participant for the key M is: ('Mehrnaz', 'Muhammad')\n",
      "The participant for the key C is: Chloe\n",
      "The participant for the key A is: ('Adam', 'Akinkya', 'Akash', 'Alka')\n"
     ]
    }
   ],
   "source": [
    "#Q4 Find participant's names that start with J,I,M,C,A\n",
    "\n",
    "#print('Some of the participants of the Npower dictionary are:', dic[\"J\"], dic[\"I\"], dic[\"M\"], dic[\"C\"], dic[\"A\"])\n",
    "\n",
    "keys_var = \"J,I,M,C,A\"\n",
    "keys_delimeter = \",\"\n",
    "#default separator is any whitespace\n",
    "#Convert jey_var into list with multiple elements\n",
    "keys_list = keys_var.split(keys_delimeter)\n",
    "#print(keys_list)\n",
    "\n",
    "#print the values in the dictionary\n",
    "for a in keys_list:\n",
    "    print(\"The participant for the key\", a, \"is:\", dic[a])\n",
    "\n"
   ]
  },
  {
   "cell_type": "code",
   "execution_count": 107,
   "metadata": {},
   "outputs": [
    {
     "name": "stdout",
     "output_type": "stream",
     "text": [
      "The key: ' K, PD ' and the value ' Kristina ' were added to the dictionary\n",
      "{'A': ('Adam', 'Akinkya', 'Akash', 'Alka'), 'C': 'Chloe', 'D': ('Dami', 'Divya'), 'E': 'Edward', 'G': ('Garav', 'Gilmara'), 'I': 'Imara', 'J': 'Jainam', 'L': 'Leul', 'M': ('Mehrnaz', 'Muhammad'), 'K, PD': 'Kristina'}\n"
     ]
    }
   ],
   "source": [
    "#Q5 Add the following to your dictionary \n",
    "# Key<(K,PD)>, Value<(Kristina)>\n",
    "\n",
    "key = \"K, PD\"\n",
    "value = \"Kristina\"\n",
    "\n",
    "    \n",
    "if key not in dic.keys():\n",
    "    dic[(key)] = value\n",
    "    print(\"The key: '\", key, \"' and the value '\", dic[(key)], \"' were added to the dictionary\")\n",
    "    \n",
    "elif key in dic.keys():\n",
    "    if dic[key] == value:\n",
    "        print (\"The key: '\", key, \"' and the value '\", dic[(key)], \"are already in the dictionary\")\n",
    "    else:\n",
    "        print(\"The key '\", key, \"' has the following value:\", dic[key])\n",
    "  \n",
    "    \n",
    "print(dic)"
   ]
  },
  {
   "cell_type": "code",
   "execution_count": 108,
   "metadata": {},
   "outputs": [
    {
     "name": "stdout",
     "output_type": "stream",
     "text": [
      "The length of the dictionary is: 10\n"
     ]
    }
   ],
   "source": [
    "#Q6 Find the length of your dictionary  \n",
    "\n",
    "print(\"The length of the dictionary is:\", len(dic))"
   ]
  },
  {
   "cell_type": "code",
   "execution_count": 109,
   "metadata": {},
   "outputs": [
    {
     "name": "stdout",
     "output_type": "stream",
     "text": [
      "The key: ' S,Instructor ' and the value ' Sarah ' were added to the dictionary\n",
      "{'A': ('Adam', 'Akinkya', 'Akash', 'Alka'), 'C': 'Chloe', 'D': ('Dami', 'Divya'), 'E': 'Edward', 'G': ('Garav', 'Gilmara'), 'I': 'Imara', 'J': 'Jainam', 'L': 'Leul', 'M': ('Mehrnaz', 'Muhammad'), 'K, PD': 'Kristina', 'S,Instructor': 'Sarah'}\n"
     ]
    }
   ],
   "source": [
    "#Q7 Add the following to your dictionary \n",
    "# Key<(S,Instructor)>, Value<(Sarah)>\n",
    "\n",
    "key = \"S,Instructor\"\n",
    "value = \"Sarah\"\n",
    "\n",
    "    \n",
    "if key not in dic.keys():\n",
    "    dic[(key)] = value\n",
    "    print(\"The key: '\", key, \"' and the value '\", dic[(key)], \"' were added to the dictionary\")\n",
    "    \n",
    "elif key in dic.keys():\n",
    "    if dic[key] == value:\n",
    "        print (\"The key: '\", key, \"' and the value '\", dic[(key)], \"are already in the dictionary\")\n",
    "    else:\n",
    "        print(\"The key '\", key, \"' has the following value:\", dic[key])\n",
    "  \n",
    "    \n",
    "print(dic)"
   ]
  },
  {
   "cell_type": "code",
   "execution_count": 110,
   "metadata": {},
   "outputs": [
    {
     "name": "stdout",
     "output_type": "stream",
     "text": [
      "The length of the dictionary is: 11\n"
     ]
    }
   ],
   "source": [
    "#Q8 Find the length of your dictionary  \n",
    "\n",
    "print(\"The length of the dictionary is:\", len(dic))"
   ]
  },
  {
   "cell_type": "code",
   "execution_count": 111,
   "metadata": {},
   "outputs": [
    {
     "name": "stdout",
     "output_type": "stream",
     "text": [
      "Sarah was deleted from the dictionary\n",
      "Jainam was deleted from the dictionary\n",
      "\n",
      " Updated dictionary {'A': ('Adam', 'Akinkya', 'Akash', 'Alka'), 'C': 'Chloe', 'D': ('Dami', 'Divya'), 'E': 'Edward', 'G': ('Garav', 'Gilmara'), 'I': 'Imara', 'L': 'Leul', 'M': ('Mehrnaz', 'Muhammad'), 'K, PD': 'Kristina'}\n"
     ]
    }
   ],
   "source": [
    "#Q7 Delete the following keys from your dictionary \n",
    "#Key<(S,Instructor)>\n",
    "#Key<J>\n",
    "\n",
    "key1 = \"S,Instructor\"\n",
    "key2 = \"J\"\n",
    "\n",
    "if key1 in dic:\n",
    "    #del(dic[\"S, Instructor\"])\n",
    "    value_del = dic.pop(key1)\n",
    "    print(value_del, \"was deleted from the dictionary\")\n",
    "    \n",
    "if key2 in dic:\n",
    "    #del(dic[\"J\"])\n",
    "    value2_del = dic.pop(key2)\n",
    "    print(value2_del, \"was deleted from the dictionary\")\n",
    "    \n",
    "  \n",
    "   \n",
    "print('\\n Updated dictionary', dic)"
   ]
  },
  {
   "cell_type": "code",
   "execution_count": 112,
   "metadata": {},
   "outputs": [
    {
     "name": "stdout",
     "output_type": "stream",
     "text": [
      "The length of the dictionary is: 9\n"
     ]
    }
   ],
   "source": [
    "#Q9 Find the length of your dictionary  \n",
    "\n",
    "print(\"The length of the dictionary is:\", len(dic))"
   ]
  },
  {
   "cell_type": "code",
   "execution_count": 182,
   "metadata": {},
   "outputs": [
    {
     "name": "stdout",
     "output_type": "stream",
     "text": [
      "{}\n"
     ]
    }
   ],
   "source": [
    "#Q10 Create a new dictionary called synonyms_dic\n",
    "\n",
    "synonyms_dic = {}\n",
    "print(synonyms_dic)"
   ]
  },
  {
   "cell_type": "code",
   "execution_count": 217,
   "metadata": {},
   "outputs": [
    {
     "name": "stdout",
     "output_type": "stream",
     "text": [
      "The dictionary has the following keys and values: {'Bad': 'Mean', ' Good': ' Fine', ' Awesome': ' Amazing', ' Cold': ' Freezing', ' Easy': ' Effortless', ' Hard': ' Solid', ' Big': ' Large', ' Small': ' Little'}\n"
     ]
    }
   ],
   "source": [
    "#Q11 Add the synonyms of the following words to your dictionary \n",
    "#Bad, Good, Awesome, Cold, Easy, Hard, Big, Small\n",
    "\n",
    "words = \"Bad, Good, Awesome, Cold, Easy, Hard, Big, Small\"\n",
    "delimeter = \",\"\n",
    "#Converting into a list with multiple elements\n",
    "words_list = words.split(delimeter)\n",
    "#print(words_list)\n",
    "\n",
    "synonyms = \"Mean, Fine, Amazing, Freezing, Effortless, Solid, Large, Little\"\n",
    "synonyms_list = synonyms.split(delimeter)\n",
    "#print(synonyms_list)\n",
    "\n",
    "#It is important to consider that, I only did the code this way because the dictionary was empty\n",
    "\n",
    "def addSyn(keys, values):\n",
    "    synonyms_dic = {keys[i]: values[i] for i in range(0, len(keys))}\n",
    "    return synonyms_dic\n",
    "\n",
    "print(\"The dictionary has the following keys and values:\", addSyn(words_list, synonyms_list))\n",
    " \n",
    "    "
   ]
  },
  {
   "cell_type": "code",
   "execution_count": 184,
   "metadata": {},
   "outputs": [
    {
     "name": "stdout",
     "output_type": "stream",
     "text": [
      "The synonyms for the word:  Awesome is:  Amazing\n",
      "The synonyms for the word:  Easy is:  Effortless\n",
      "The synonyms for the word:  Small is:  Little\n",
      "The word:  Old is not a key in the dictionary\n"
     ]
    }
   ],
   "source": [
    "#Q12 Use your dictionary to find the synonym of the following words \n",
    "# Awesome, Easy, Small, Old \n",
    "'''\n",
    "for word in words:\n",
    "    if word in synonyms_dic.keys():\n",
    "        print(\"The synonym for\", word, \"is\", synonyms_dic[word])\n",
    "    else:\n",
    "        print(word, \"is not in the dictionary\")\n",
    "        '''\n",
    "\n",
    "words = \" Awesome, Easy, Small, Old\"\n",
    "delimeter = ','\n",
    "words_list = words.split(delimeter)\n",
    "\n",
    "for key in words_list:\n",
    "    if key in synonyms_dic.keys():\n",
    "        print(\"The synonyms for the word:\", key, \"is:\", synonyms_dic[key])\n",
    "    else:\n",
    "        print(\"The word:\", key, \"is not a key in the dictionary\")\n",
    "        \n"
   ]
  },
  {
   "cell_type": "code",
   "execution_count": 185,
   "metadata": {},
   "outputs": [],
   "source": [
    "#Q13 Delete everything from synonyms_dic\n",
    "\n",
    "synonyms_dic.clear()"
   ]
  },
  {
   "cell_type": "code",
   "execution_count": 189,
   "metadata": {},
   "outputs": [
    {
     "name": "stdout",
     "output_type": "stream",
     "text": [
      "The values for the dictionary are dict_values([])\n"
     ]
    }
   ],
   "source": [
    "#Q14 Print all values in synonyms_dic\n",
    "\n",
    "print(\"The values for the dictionary are\", synonyms_dic.values())\n",
    "\n"
   ]
  },
  {
   "cell_type": "code",
   "execution_count": 16,
   "metadata": {},
   "outputs": [
    {
     "name": "stdout",
     "output_type": "stream",
     "text": [
      "The result of converting to lists into a dictionary is: {'True': 1, 'False': 0}\n"
     ]
    }
   ],
   "source": [
    "#Q15 Convert the below two lists into dictionary\n",
    "\n",
    "\n",
    "def Convert(keysF, valuesF):\n",
    "    res_dct = {keysF[i]: valuesF[i] for i in range(0, len(keysF))}\n",
    "    return res_dct\n",
    "         \n",
    "# Driver code\n",
    "keys=[\"True\",\"False\"]\n",
    "values=[1,0]\n",
    "\n",
    "print('The result of converting to lists into a dictionary is:', Convert(keys, values))"
   ]
  },
  {
   "cell_type": "code",
   "execution_count": 17,
   "metadata": {},
   "outputs": [
    {
     "name": "stdout",
     "output_type": "stream",
     "text": [
      "The sum of the values for the income dictionary is: 4480\n"
     ]
    }
   ],
   "source": [
    "#Q16 Sum all the values in the following dictionary\n",
    "\n",
    "income={'Jan':1000,'Feb':1500,'Mar':980,'April':1000}\n",
    "\n",
    "values = income.values()\n",
    "\n",
    "total = sum(values)\n",
    "\n",
    "print('The sum of the values for the income dictionary is:', total)"
   ]
  },
  {
   "cell_type": "code",
   "execution_count": 18,
   "metadata": {},
   "outputs": [
    {
     "name": "stdout",
     "output_type": "stream",
     "text": [
      "['110', '101', '10', '1011', '110', '1001', '111', '1101']\n",
      "code: 110 101 10 1011 110 1001 111 1101\n",
      "Decrypt:  I am hungry , I want to eat \n"
     ]
    }
   ],
   "source": [
    "#Q17 Create the following dictionary encryption={10:\"hungry\", 101:\"am\", 110:\"I\", 1011:\",\" ,1101:\"eat\", 1001:\"want\", 111:\"to\"}\n",
    "# What should the the decryption of the following code \"110 101 10 1011 110 1001 111 1101\"\n",
    "\n",
    "\n",
    "encryption = { 10:\"hungry\", 101:\"am\", 110:\"I\", 1011:\",\" ,1101:\"eat\", 1001:\"want\", 111:\"to\"}\n",
    "code = \"110 101 10 1011 110 1001 111 1101\"\n",
    "\n",
    "delimeter = \" \"\n",
    "code_list = code.split(delimeter)\n",
    "print(code_list)\n",
    "\n",
    "decrypt = \" \"\n",
    "for i in code_list:\n",
    "    decrypt = decrypt + encryption[int(i)] + delimeter\n",
    "    \n",
    "\n",
    "print(\"code:\", code)   \n",
    "print(\"Decrypt:\", decrypt)\n",
    "    "
   ]
  },
  {
   "cell_type": "code",
   "execution_count": null,
   "metadata": {},
   "outputs": [],
   "source": []
  }
 ],
 "metadata": {
  "kernelspec": {
   "display_name": "Python 3",
   "language": "python",
   "name": "python3"
  },
  "language_info": {
   "codemirror_mode": {
    "name": "ipython",
    "version": 3
   },
   "file_extension": ".py",
   "mimetype": "text/x-python",
   "name": "python",
   "nbconvert_exporter": "python",
   "pygments_lexer": "ipython3",
   "version": "3.8.5"
  }
 },
 "nbformat": 4,
 "nbformat_minor": 4
}
