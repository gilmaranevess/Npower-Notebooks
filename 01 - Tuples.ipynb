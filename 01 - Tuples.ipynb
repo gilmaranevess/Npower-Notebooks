{
 "cells": [
  {
   "cell_type": "code",
   "execution_count": 2,
   "metadata": {},
   "outputs": [
    {
     "data": {
      "text/plain": [
       "('NPower', 'JDA', 'Tuesday', 30, 3, 2021)"
      ]
     },
     "execution_count": 2,
     "metadata": {},
     "output_type": "execute_result"
    }
   ],
   "source": [
    "#Q1 Create myTuple tuple with the follwoing values (\"NPower\",\"JDA\",\"Tuesday\",30,3,2021)\n",
    "myTuple = (\"NPower\",\"JDA\",\"Tuesday\", 30, 3,2021)\n",
    "myTuple"
   ]
  },
  {
   "cell_type": "code",
   "execution_count": 3,
   "metadata": {},
   "outputs": [
    {
     "data": {
      "text/plain": [
       "tuple"
      ]
     },
     "execution_count": 3,
     "metadata": {},
     "output_type": "execute_result"
    }
   ],
   "source": [
    "#Q2 What is the type of myTuple\n",
    "type(myTuple)"
   ]
  },
  {
   "cell_type": "code",
   "execution_count": 4,
   "metadata": {},
   "outputs": [
    {
     "data": {
      "text/plain": [
       "6"
      ]
     },
     "execution_count": 4,
     "metadata": {},
     "output_type": "execute_result"
    }
   ],
   "source": [
    "#Q3 What is the length of myTuple\n",
    "len(myTuple)"
   ]
  },
  {
   "cell_type": "code",
   "execution_count": 7,
   "metadata": {},
   "outputs": [
    {
     "name": "stdout",
     "output_type": "stream",
     "text": [
      "('NPower', 'JDA', 'Tuesday', 30, 3, 2021)\n",
      "NPower\n",
      "JDA\n",
      "Tuesday\n",
      "30\n",
      "3\n",
      "2021\n"
     ]
    }
   ],
   "source": [
    "#Q4 print the values in each index #Use regular indexing \n",
    "print(myTuple[0:6])\n",
    "print(myTuple[0])\n",
    "print(myTuple[1])\n",
    "print(myTuple[2])\n",
    "print(myTuple[3])\n",
    "print(myTuple[4])\n",
    "print(myTuple[5])\n"
   ]
  },
  {
   "cell_type": "code",
   "execution_count": 17,
   "metadata": {},
   "outputs": [
    {
     "name": "stdout",
     "output_type": "stream",
     "text": [
      "(2021, 3, 30, 'Tuesday', 'JDA', 'NPower')\n",
      "2021\n",
      "3\n",
      "30\n",
      "Tuesday\n",
      "JDA\n",
      "NPower\n"
     ]
    }
   ],
   "source": [
    "#Q5 print the values in each index #Use negative indexing \n",
    "print(myTuple[::-1])\n",
    "print(myTuple[-1])\n",
    "print(myTuple[-2])\n",
    "print(myTuple[-3])\n",
    "print(myTuple[-4])\n",
    "print(myTuple[-5])\n",
    "print(myTuple[-6])"
   ]
  },
  {
   "cell_type": "code",
   "execution_count": 28,
   "metadata": {},
   "outputs": [
    {
     "name": "stdout",
     "output_type": "stream",
     "text": [
      "NPower = <class 'str'> \n",
      " JDA = <class 'str'> \n",
      " Tuesday = <class 'str'> \n",
      " 30 = <class 'int'> \n",
      " 3 = <class 'int'> \n",
      " 2021 = <class 'int'>\n"
     ]
    }
   ],
   "source": [
    "#Q6 what is the type of each value\n",
    "print(\n",
    "      myTuple[0], '=', type(myTuple[0]), \"\\n\", \n",
    "      myTuple[1], '=', type(myTuple[1]), \"\\n\",\n",
    "      myTuple[2], '=', type(myTuple[2]), \"\\n\",\n",
    "      myTuple[3], '=', type(myTuple[3]), \"\\n\",\n",
    "      myTuple[4], '=', type(myTuple[4]), \"\\n\",\n",
    "      myTuple[5], '=', type(myTuple[5])\n",
    "    )"
   ]
  },
  {
   "cell_type": "code",
   "execution_count": 31,
   "metadata": {},
   "outputs": [
    {
     "name": "stdout",
     "output_type": "stream",
     "text": [
      "NPower JDA Tuesday 30 3 2021\n"
     ]
    }
   ],
   "source": [
    "#Q7 unpack myTuple in the follwoeing variables name,program,dayName,month,day,year accordingly \n",
    "# print the variables \n",
    "name,program,dayName,month,day,year = myTuple\n",
    "print(name, program, dayName, month, day, year)"
   ]
  },
  {
   "cell_type": "code",
   "execution_count": 40,
   "metadata": {},
   "outputs": [
    {
     "name": "stdout",
     "output_type": "stream",
     "text": [
      "Jerry 2 89 30 3 2021\n"
     ]
    }
   ],
   "source": [
    "#Q8 unpack myTuple2 in the follwoeing variablesname,program,dayName.\n",
    "# What will happen to variables (name,program,dayName) and (month,day,year)\n",
    "myTuple2=(\"Jerry\",2,89)\n",
    "name, program, dayName = myTuple2\n",
    "print(name, program, dayName, month, day, year)\n",
    "\n",
    "#Name, program and dayName now have new values, while the month, day and year has the same values as before"
   ]
  },
  {
   "cell_type": "code",
   "execution_count": 36,
   "metadata": {},
   "outputs": [
    {
     "name": "stdout",
     "output_type": "stream",
     "text": [
      "Type a <class 'str'>\n",
      "Jerry 2 89\n",
      "<class 'str'>\n",
      "Ulan\n",
      "Leul\n"
     ]
    }
   ],
   "source": [
    "# Note the following\n",
    "Tuple1 = (\"Jerry\",2, 89) #This is a tuple with 3 elements \n",
    "Tuple2 = (\"Ulan\") #This is a tuple with 1 element\n",
    "test = \"Leul\" #This is a VARIABLE with string value\n",
    "\n",
    "a, b, c = Tuple1\n",
    "print(\"Type a\",type(a))\n",
    "print(a, b, c)\n",
    "\n",
    "d = Tuple2\n",
    "print(type(d))\n",
    "print(d)\n",
    "\n",
    "e = test\n",
    "print(e)"
   ]
  },
  {
   "cell_type": "code",
   "execution_count": 37,
   "metadata": {},
   "outputs": [
    {
     "name": "stdout",
     "output_type": "stream",
     "text": [
      "(1, 2, 3)\n",
      "(4, 5, 6)\n"
     ]
    },
    {
     "ename": "TypeError",
     "evalue": "'tuple' object does not support item assignment",
     "output_type": "error",
     "traceback": [
      "\u001b[1;31m---------------------------------------------------------------------------\u001b[0m",
      "\u001b[1;31mTypeError\u001b[0m                                 Traceback (most recent call last)",
      "\u001b[1;32m<ipython-input-37-7629f8c13811>\u001b[0m in \u001b[0;36m<module>\u001b[1;34m\u001b[0m\n\u001b[0;32m     11\u001b[0m \u001b[1;31m#But we can't change or edit a value for the existing tuple\u001b[0m\u001b[1;33m\u001b[0m\u001b[1;33m\u001b[0m\u001b[1;33m\u001b[0m\u001b[0m\n\u001b[0;32m     12\u001b[0m \u001b[1;33m\u001b[0m\u001b[0m\n\u001b[1;32m---> 13\u001b[1;33m \u001b[0mtestTuple\u001b[0m\u001b[1;33m[\u001b[0m\u001b[1;36m0\u001b[0m\u001b[1;33m]\u001b[0m\u001b[1;33m=\u001b[0m\u001b[1;36m6\u001b[0m \u001b[1;31m#ERROR 'tuple' object does not support item assignment\u001b[0m\u001b[1;33m\u001b[0m\u001b[1;33m\u001b[0m\u001b[0m\n\u001b[0m\u001b[0;32m     14\u001b[0m \u001b[1;33m\u001b[0m\u001b[0m\n",
      "\u001b[1;31mTypeError\u001b[0m: 'tuple' object does not support item assignment"
     ]
    }
   ],
   "source": [
    "#Tuples are immutable\n",
    "#we can always make the testTuple variable reference a new tuple in the memory \n",
    "#and holding different information\n",
    "\n",
    "testTuple = (1, 2, 3)\n",
    "print(testTuple)\n",
    "\n",
    "testTuple = (4, 5, 6)\n",
    "print(testTuple)\n",
    "\n",
    "#But we can't change or edit a value for the existing tuple\n",
    "\n",
    "testTuple[0]=6 #ERROR 'tuple' object does not support item assignment\n",
    "\n"
   ]
  },
  {
   "cell_type": "code",
   "execution_count": 43,
   "metadata": {},
   "outputs": [
    {
     "name": "stdout",
     "output_type": "stream",
     "text": [
      "('NPower', 'JDA', 'Tuesday', 30, 3, 2021)\n",
      "(2021, 3, 30, 'Tuesday', 'JDA', 'NPower') \n",
      "\n",
      "\n",
      "(2021, 3, 30, 'Tuesday', 'JDA', 'NPower')\n"
     ]
    }
   ],
   "source": [
    "#Q9 Reverse myTuple, output should looks like (\"NPower\",\"JDA\",\"Tuesday\",30,3,2021)\n",
    "myTupleReversed = myTuple[::-1]\n",
    "\n",
    "print(myTuple)\n",
    "print(myTupleReversed, '\\n\\n')\n",
    "\n",
    "#creating a function to reverse tuple\n",
    "\n",
    "def reverseFunc(reverseTuple):\n",
    "    return reverseTuple[::-1]\n",
    "\n",
    "print(reverseFunc(myTuple))"
   ]
  },
  {
   "cell_type": "code",
   "execution_count": 44,
   "metadata": {},
   "outputs": [
    {
     "data": {
      "text/plain": [
       "(('Coursera', 'course', 6), ('week', (2, 'Lists', 'Tuple')))"
      ]
     },
     "execution_count": 44,
     "metadata": {},
     "output_type": "execute_result"
    }
   ],
   "source": [
    "#Q10 Create nestedTuple=((\"Coursera\",\"course\",6),(\"week\",(2,\"Lists\",\"Tuple\")))\n",
    "nestedTuple=((\"Coursera\",\"course\",6),(\"week\",(2,\"Lists\",\"Tuple\")))\n",
    "nestedTuple"
   ]
  },
  {
   "cell_type": "code",
   "execution_count": 45,
   "metadata": {},
   "outputs": [
    {
     "data": {
      "text/plain": [
       "(('week', (2, 'Lists', 'Tuple')),)"
      ]
     },
     "execution_count": 45,
     "metadata": {},
     "output_type": "execute_result"
    }
   ],
   "source": [
    "#Q11 What is the output of nestedTuple[1:2]\n",
    "nestedTuple[1:2]"
   ]
  },
  {
   "cell_type": "code",
   "execution_count": 46,
   "metadata": {},
   "outputs": [
    {
     "data": {
      "text/plain": [
       "(('Coursera', 'course', 6), ('week', (2, 'Lists', 'Tuple')))"
      ]
     },
     "execution_count": 46,
     "metadata": {},
     "output_type": "execute_result"
    }
   ],
   "source": [
    "#Q12 print each element in the nestedTuple\n",
    "nestedTuple[:]\n"
   ]
  },
  {
   "cell_type": "code",
   "execution_count": 47,
   "metadata": {},
   "outputs": [
    {
     "data": {
      "text/plain": [
       "(2, 'Lists', 'Tuple')"
      ]
     },
     "execution_count": 47,
     "metadata": {},
     "output_type": "execute_result"
    }
   ],
   "source": [
    "#Q13 Access (2,\"Lists\",\"Tuple\") from nestedTuple\n",
    "nestedTuple[1][1]"
   ]
  },
  {
   "cell_type": "code",
   "execution_count": 48,
   "metadata": {},
   "outputs": [
    {
     "data": {
      "text/plain": [
       "'Lists'"
      ]
     },
     "execution_count": 48,
     "metadata": {},
     "output_type": "execute_result"
    }
   ],
   "source": [
    "#Q14 Access \"Lists\" from nestedTuple\n",
    "nestedTuple[1][1][1]"
   ]
  },
  {
   "cell_type": "code",
   "execution_count": 49,
   "metadata": {},
   "outputs": [
    {
     "data": {
      "text/plain": [
       "'Tuple'"
      ]
     },
     "execution_count": 49,
     "metadata": {},
     "output_type": "execute_result"
    }
   ],
   "source": [
    "#Q15 Access \"Tuple\" from nestedTuple\n",
    "nestedTuple[1][1][2]"
   ]
  },
  {
   "cell_type": "code",
   "execution_count": 50,
   "metadata": {},
   "outputs": [
    {
     "data": {
      "text/plain": [
       "'course'"
      ]
     },
     "execution_count": 50,
     "metadata": {},
     "output_type": "execute_result"
    }
   ],
   "source": [
    "#Q16 Access \"course\" from nestedTuple\n",
    "nestedTuple[0][1]"
   ]
  },
  {
   "cell_type": "code",
   "execution_count": 64,
   "metadata": {},
   "outputs": [
    {
     "data": {
      "text/plain": [
       "('NPower',\n",
       " 'JDA',\n",
       " 'Tuesday',\n",
       " 30,\n",
       " 3,\n",
       " 2021,\n",
       " ('Coursera', 'course', 6),\n",
       " ('week', (2, 'Lists', 'Tuple')))"
      ]
     },
     "execution_count": 64,
     "metadata": {},
     "output_type": "execute_result"
    }
   ],
   "source": [
    "#Q17 Concatenate myTuple with nestedTuple\n",
    "myTuple = myTuple + nestedTuple\n",
    "myTuple"
   ]
  },
  {
   "cell_type": "code",
   "execution_count": 65,
   "metadata": {},
   "outputs": [
    {
     "data": {
      "text/plain": [
       "('NPower',\n",
       " 'JDA',\n",
       " 'Tuesday',\n",
       " 30,\n",
       " 3,\n",
       " 2021,\n",
       " ('Coursera', 'course', 6),\n",
       " ('week', (2, 'Lists', 'Tuple')),\n",
       " 'Gilmara')"
      ]
     },
     "execution_count": 65,
     "metadata": {},
     "output_type": "execute_result"
    }
   ],
   "source": [
    "#Q18 add your name to the tuple\n",
    "\n",
    "myTuple = myTuple + ('Gilmara',)\n",
    "myTuple"
   ]
  },
  {
   "cell_type": "code",
   "execution_count": 66,
   "metadata": {},
   "outputs": [
    {
     "data": {
      "text/plain": [
       "False"
      ]
     },
     "execution_count": 66,
     "metadata": {},
     "output_type": "execute_result"
    }
   ],
   "source": [
    "#Q19 check whether Coursera exists within a myTuple\n",
    "\n",
    "# NOTE in doesn't work properly with nested tuples # Wrong output\n",
    "'coursera' in myTuple"
   ]
  },
  {
   "cell_type": "code",
   "execution_count": 67,
   "metadata": {},
   "outputs": [
    {
     "data": {
      "text/plain": [
       "True"
      ]
     },
     "execution_count": 67,
     "metadata": {},
     "output_type": "execute_result"
    }
   ],
   "source": [
    "#Q20 check whether an element exists within a testTuple\n",
    "4 in testTuple\n"
   ]
  },
  {
   "cell_type": "code",
   "execution_count": 76,
   "metadata": {},
   "outputs": [
    {
     "name": "stdout",
     "output_type": "stream",
     "text": [
      "1\n",
      "[6, 0]\n"
     ]
    }
   ],
   "source": [
    "#Q21 Find the index of JDA in myTuple\n",
    "print(myTuple.index('JDA'))\n",
    "\n",
    "# Find the index of 'Coursera' in myTuple\n",
    "\n",
    "def findIndices(item, tup):\n",
    "     indices = []\n",
    "     for index, elem in enumerate(tup):\n",
    "          if item == elem:\n",
    "               indices.append(index)\n",
    "               return indices\n",
    "          elif isinstance(elem,tuple):\n",
    "               indices.append(index)\n",
    "               return indices + findIndices(item,elem)\n",
    "\n",
    "print(findIndices('Coursera',myTuple))\n",
    "\n",
    "# NOTE index doesn't work properly with nested tuples # Wrong output\n"
   ]
  },
  {
   "cell_type": "code",
   "execution_count": 70,
   "metadata": {},
   "outputs": [
    {
     "data": {
      "text/plain": [
       "'Gilmara'"
      ]
     },
     "execution_count": 70,
     "metadata": {},
     "output_type": "execute_result"
    }
   ],
   "source": [
    "#Q22 print index 8 from myTuple\n",
    "myTuple[8]"
   ]
  },
  {
   "cell_type": "code",
   "execution_count": 74,
   "metadata": {},
   "outputs": [
    {
     "data": {
      "text/plain": [
       "3"
      ]
     },
     "execution_count": 74,
     "metadata": {},
     "output_type": "execute_result"
    }
   ],
   "source": [
    "#Q23 Get the 4th element and 4th element from last of a myTuple\n",
    "#I didn't understand very well '4th element and 4th element' (Typo?)\n",
    "#I don't think I understand what the question wants exactly\n",
    "myTuple[4]"
   ]
  },
  {
   "cell_type": "code",
   "execution_count": 75,
   "metadata": {},
   "outputs": [
    {
     "data": {
      "text/plain": [
       "0"
      ]
     },
     "execution_count": 75,
     "metadata": {},
     "output_type": "execute_result"
    }
   ],
   "source": [
    "#Q24 Find how many times 27 appeared in the tuple [Hint: Use method count()]\n",
    "myTuple.count(27)"
   ]
  },
  {
   "cell_type": "code",
   "execution_count": null,
   "metadata": {},
   "outputs": [],
   "source": []
  }
 ],
 "metadata": {
  "kernelspec": {
   "display_name": "Python 3",
   "language": "python",
   "name": "python3"
  },
  "language_info": {
   "codemirror_mode": {
    "name": "ipython",
    "version": 3
   },
   "file_extension": ".py",
   "mimetype": "text/x-python",
   "name": "python",
   "nbconvert_exporter": "python",
   "pygments_lexer": "ipython3",
   "version": "3.8.5"
  }
 },
 "nbformat": 4,
 "nbformat_minor": 4
}
