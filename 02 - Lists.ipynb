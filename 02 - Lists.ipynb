{
 "cells": [
  {
   "cell_type": "code",
   "execution_count": 1,
   "metadata": {},
   "outputs": [],
   "source": [
    "#Q1 Create a tuple with all participant names in the JDA program\n",
    "\n",
    "jdaPart = ('Adam', 'Akinkya', 'Akash', 'Alka', 'Chloe', 'Dami', 'Divya', 'Edward', 'Garav', \\\n",
    "           'Gilmara', 'Imara', 'Jainam', 'Leul', 'Mehrnaz', 'Muhammad', 'Olaolusubomi', 'Pray', 'Rasha'\\\n",
    "          'Riley', 'Romita', 'Saloni', 'Saman', 'Santhiya', 'Sydney', 'Sowjanya', 'Suganya', 'Sunint', 'Temitope', \\\n",
    "          'Tony', 'Ulan', 'Winnie', 'Jerry')"
   ]
  },
  {
   "cell_type": "code",
   "execution_count": 2,
   "metadata": {},
   "outputs": [
    {
     "data": {
      "text/plain": [
       "['Adam',\n",
       " 'Akinkya',\n",
       " 'Akash',\n",
       " 'Alka',\n",
       " 'Chloe',\n",
       " 'Dami',\n",
       " 'Divya',\n",
       " 'Edward',\n",
       " 'Garav',\n",
       " 'Gilmara',\n",
       " 'Imara',\n",
       " 'Jainam',\n",
       " 'Leul',\n",
       " 'Mehrnaz',\n",
       " 'Muhammad',\n",
       " 'Olaolusubomi',\n",
       " 'Pray',\n",
       " 'RashaRiley',\n",
       " 'Romita',\n",
       " 'Saloni',\n",
       " 'Saman',\n",
       " 'Santhiya',\n",
       " 'Sydney',\n",
       " 'Sowjanya',\n",
       " 'Suganya',\n",
       " 'Sunint',\n",
       " 'Temitope',\n",
       " 'Tony',\n",
       " 'Ulan',\n",
       " 'Winnie',\n",
       " 'Jerry']"
      ]
     },
     "execution_count": 2,
     "metadata": {},
     "output_type": "execute_result"
    }
   ],
   "source": [
    "#Q2 Convert the tuple into a list called pps_L\n",
    "jdaList = list(jdaPart)\n",
    "jdaList"
   ]
  },
  {
   "cell_type": "code",
   "execution_count": 3,
   "metadata": {},
   "outputs": [
    {
     "data": {
      "text/plain": [
       "31"
      ]
     },
     "execution_count": 3,
     "metadata": {},
     "output_type": "execute_result"
    }
   ],
   "source": [
    "#Q3 What is the length of your list \n",
    "len(jdaList)"
   ]
  },
  {
   "cell_type": "code",
   "execution_count": 4,
   "metadata": {},
   "outputs": [
    {
     "name": "stdout",
     "output_type": "stream",
     "text": [
      "Alka Dami Muhammad Jerry\n"
     ]
    }
   ],
   "source": [
    "#Q4 Find the values stored in indexes [3],[5],[14],[30],[38]\n",
    "\n",
    "print(jdaList[3], jdaList[5], jdaList[14], jdaList[30])\n",
    "\n",
    "#print([jdaList[38]])\n",
    "#There is nothing stored in index [38]\n"
   ]
  },
  {
   "cell_type": "code",
   "execution_count": 5,
   "metadata": {},
   "outputs": [
    {
     "data": {
      "text/plain": [
       "False"
      ]
     },
     "execution_count": 5,
     "metadata": {},
     "output_type": "execute_result"
    }
   ],
   "source": [
    "#Q5 Check if \"Sarah\" is in the list\n",
    "\n",
    "'Sarah' in jdaList"
   ]
  },
  {
   "cell_type": "code",
   "execution_count": 6,
   "metadata": {},
   "outputs": [
    {
     "data": {
      "text/plain": [
       "['Adam',\n",
       " 'Akinkya',\n",
       " 'Akash',\n",
       " 'Alka',\n",
       " 'Chloe',\n",
       " 'Dami',\n",
       " 'Divya',\n",
       " 'Edward',\n",
       " 'Garav',\n",
       " 'Gilmara',\n",
       " 'Imara',\n",
       " 'Jainam',\n",
       " 'Leul',\n",
       " 'Mehrnaz',\n",
       " 'Muhammad',\n",
       " 'Olaolusubomi',\n",
       " 'Pray',\n",
       " 'RashaRiley',\n",
       " 'Romita',\n",
       " 'Saloni',\n",
       " 'Saman',\n",
       " 'Santhiya',\n",
       " 'Sydney',\n",
       " 'Sowjanya',\n",
       " 'Suganya',\n",
       " 'Sunint',\n",
       " 'Temitope',\n",
       " 'Tony',\n",
       " 'Ulan',\n",
       " 'Winnie',\n",
       " 'Jerry',\n",
       " 'Sarah']"
      ]
     },
     "execution_count": 6,
     "metadata": {},
     "output_type": "execute_result"
    }
   ],
   "source": [
    "#Q6 Add \"Sarah\" to your list\n",
    "\n",
    "jdaList.extend(['Sarah'])\n",
    "jdaList"
   ]
  },
  {
   "cell_type": "code",
   "execution_count": 7,
   "metadata": {},
   "outputs": [
    {
     "data": {
      "text/plain": [
       "False"
      ]
     },
     "execution_count": 7,
     "metadata": {},
     "output_type": "execute_result"
    }
   ],
   "source": [
    "#Q7 Check if \"Bashir\" is in the list\n",
    "\n",
    "'Bashir' in jdaList"
   ]
  },
  {
   "cell_type": "code",
   "execution_count": 8,
   "metadata": {},
   "outputs": [],
   "source": [
    "#Q9 Add \"Bashir\" to your list\n",
    "\n",
    "jdaList.extend(['Bashir'])"
   ]
  },
  {
   "cell_type": "code",
   "execution_count": 9,
   "metadata": {},
   "outputs": [
    {
     "data": {
      "text/plain": [
       "31"
      ]
     },
     "execution_count": 9,
     "metadata": {},
     "output_type": "execute_result"
    }
   ],
   "source": [
    "#Q10 Find the index of the element \"Sarah\" in the list\n",
    "\n",
    "jdaList.index('Sarah')"
   ]
  },
  {
   "cell_type": "code",
   "execution_count": 10,
   "metadata": {},
   "outputs": [],
   "source": [
    "#Q11 Change the value of the index in Q10 from \"Sarah\" to \"Instructor\"\n",
    "\n",
    "jdaList[31] = 'Instructor'"
   ]
  },
  {
   "cell_type": "code",
   "execution_count": 11,
   "metadata": {},
   "outputs": [
    {
     "data": {
      "text/plain": [
       "32"
      ]
     },
     "execution_count": 11,
     "metadata": {},
     "output_type": "execute_result"
    }
   ],
   "source": [
    "#Q12 Find the index of the element \"Bashir\" in the list\n",
    "\n",
    "jdaList.index('Bashir')"
   ]
  },
  {
   "cell_type": "code",
   "execution_count": 12,
   "metadata": {},
   "outputs": [],
   "source": [
    "#Q13 Change the value of the index in Q12 from \"Bashir\" to \"Peer-Mentor\"\n",
    "jdaList[32] = 'Peer-Mentor'"
   ]
  },
  {
   "cell_type": "code",
   "execution_count": 13,
   "metadata": {},
   "outputs": [
    {
     "data": {
      "text/plain": [
       "['Adam',\n",
       " 'Akinkya',\n",
       " 'Akash',\n",
       " 'Alka',\n",
       " 'Chloe',\n",
       " 'Dami',\n",
       " 'Divya',\n",
       " 'Edward',\n",
       " 'Garav',\n",
       " 'Gilmara',\n",
       " 'Imara',\n",
       " 'Jainam',\n",
       " 'Leul',\n",
       " 'Mehrnaz',\n",
       " 'Muhammad',\n",
       " 'Olaolusubomi',\n",
       " 'Pray',\n",
       " 'RashaRiley',\n",
       " 'Romita',\n",
       " 'Saloni',\n",
       " 'Saman',\n",
       " 'Santhiya',\n",
       " 'Sydney',\n",
       " 'Sowjanya',\n",
       " 'Suganya',\n",
       " 'Sunint',\n",
       " 'Temitope',\n",
       " 'Tony',\n",
       " 'Ulan',\n",
       " 'Winnie',\n",
       " 'Jerry',\n",
       " 'Instructor',\n",
       " 'Peer-Mentor']"
      ]
     },
     "execution_count": 13,
     "metadata": {},
     "output_type": "execute_result"
    }
   ],
   "source": [
    "jdaList"
   ]
  },
  {
   "cell_type": "code",
   "execution_count": null,
   "metadata": {},
   "outputs": [],
   "source": []
  }
 ],
 "metadata": {
  "kernelspec": {
   "display_name": "Python 3",
   "language": "python",
   "name": "python3"
  },
  "language_info": {
   "codemirror_mode": {
    "name": "ipython",
    "version": 3
   },
   "file_extension": ".py",
   "mimetype": "text/x-python",
   "name": "python",
   "nbconvert_exporter": "python",
   "pygments_lexer": "ipython3",
   "version": "3.8.5"
  }
 },
 "nbformat": 4,
 "nbformat_minor": 4
}
