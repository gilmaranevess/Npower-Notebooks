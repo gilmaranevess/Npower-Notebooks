{
 "cells": [
  {
   "cell_type": "code",
   "execution_count": 7,
   "metadata": {
    "scrolled": false
   },
   "outputs": [
    {
     "data": {
      "text/plain": [
       "343"
      ]
     },
     "execution_count": 7,
     "metadata": {},
     "output_type": "execute_result"
    }
   ],
   "source": [
    "#Q1 Create a text file called mytxt.txt\n",
    "# Save the following content in the text file:\n",
    "# \"In this section, we will use Python's built-in open function to create a file object, and obtain the data from a \"txt\" file.\n",
    "# We will use Python's open function to get a file object. \n",
    "# We can apply a method to that object to read data from the file. We use the open function. \n",
    "# The first argument is the file path, the second parameter is the mode.\"\n",
    "\n",
    "\n",
    "myFile = open(\"mytxt.txt\", \"w\")\n",
    "myFile.write(\"In this section, we will use Pythons built-in open function to create a file object,\\n \\\n",
    "and obtain the data from a txt file. We will use Python's open function to get a file object.\\n \\\n",
    "We can apply a method to that object to read data from the file. We use the open function.\\n \\\n",
    "the first argument is the file path, the second parameter is the mode.\")\n",
    "\n",
    "\n",
    "\n"
   ]
  },
  {
   "cell_type": "code",
   "execution_count": 81,
   "metadata": {},
   "outputs": [
    {
     "name": "stdout",
     "output_type": "stream",
     "text": [
      "['In this section, we will use Pythons built-in open function to create a file object,\\n', \" and obtain the data from a txt file. We will use Python's open function to get a file object.\\n\", ' We can apply a method to that object to read data from the file. We use the open function.\\n', ' the first argument is the file path, the second parameter is the mode.']\n"
     ]
    }
   ],
   "source": [
    "#Q1 Write a Python program to read the entire mytxt file\n",
    "myFile = open(\"mytxt.txt\", \"r\")\n",
    "print(myFile.readlines())"
   ]
  },
  {
   "cell_type": "code",
   "execution_count": 82,
   "metadata": {},
   "outputs": [
    {
     "name": "stdout",
     "output_type": "stream",
     "text": [
      "[\" and obtain the data from a txt file. We will use Python's open function to get a file object.\\n\", ' We can apply a method to that object to read data from the file. We use the open function.\\n', ' the first argument is the file path, the second parameter is the mode.']\n"
     ]
    }
   ],
   "source": [
    "#Q2 Write a Python program to read last 3 lines of mytxt file\n",
    "myFile = open(\"mytxt.txt\", \"r\")\n",
    "\n",
    "lines = myFile.readlines()\n",
    "\n",
    "last_lines = lines[-3:]\n",
    "print(last_lines)"
   ]
  },
  {
   "cell_type": "code",
   "execution_count": 83,
   "metadata": {},
   "outputs": [
    {
     "name": "stdout",
     "output_type": "stream",
     "text": [
      "[' the first argument is the file path, the second parameter is the mode.']\n"
     ]
    }
   ],
   "source": [
    "#Q3 Write a Python program to read last n lines of mytxt file [Hint: write a function]\n",
    "\n",
    "myFile = open(\"mytxt.txt\", \"r\")\n",
    "\n",
    "def readLines(num):\n",
    "    lines = myFile.readlines()\n",
    "    last_lines = lines[-num:]\n",
    "    return last_lines\n",
    "\n",
    "print(readLines(1))"
   ]
  },
  {
   "cell_type": "code",
   "execution_count": 84,
   "metadata": {},
   "outputs": [
    {
     "name": "stdout",
     "output_type": "stream",
     "text": [
      "This is the number of lines in the file: 4\n"
     ]
    }
   ],
   "source": [
    "#Q4 count the number of lines in mytxt file \n",
    "  \n",
    "# Opening a file\n",
    "myfile = open(\"myTxt.txt\",\"r\")\n",
    "Counter = 0\n",
    "  \n",
    "# Reading from file\n",
    "Cont = myfile.read()\n",
    "CoList = Cont.split(\"\\n\")\n",
    "  \n",
    "for i in CoList:\n",
    "    if i:\n",
    "        Counter += 1\n",
    "          \n",
    "print(\"This is the number of lines in the file:\", Counter)\n"
   ]
  },
  {
   "cell_type": "code",
   "execution_count": 85,
   "metadata": {},
   "outputs": [],
   "source": [
    "#Q5 Write a Python program to generate 26 text files named A.txt, B.txt,C.txt ........ Z.txt\n",
    "\n",
    "import string, os\n",
    "if not os.path.exists(\"letters\"):\n",
    "    os.makedirs(\"letters\")\n",
    "\n",
    "for letter in string.ascii_uppercase:\n",
    "    with open(letter + \".txt\", \"w\") as f:\n",
    "        f.writelines(letter)\n",
    "\n"
   ]
  },
  {
   "cell_type": "code",
   "execution_count": 86,
   "metadata": {},
   "outputs": [
    {
     "name": "stdout",
     "output_type": "stream",
     "text": [
      "In this section, we will use Pythons built-in open function to create a file object,\n",
      " and obtain the data from a txt file. We will use Python's open function to get a file object.\n",
      " We can apply a method to that object to read data from the file. We use the open function.\n",
      " the first argument is the file path, the second parameter is the mode.\n",
      "End of file\n",
      "\n"
     ]
    }
   ],
   "source": [
    "#Q6 Write a Python program to append \"End of file\" to mytxt file and display the text \n",
    "\n",
    "def ReadAppend(fname):\n",
    "        #from itertools import islice\n",
    "        with open(fname, \"a\") as myfile:\n",
    "            #myfile.write(\"End of file\\n\")\n",
    "            myfile.write(\"\\nEnd of file\\n\")\n",
    "            \n",
    "        txt = open(fname)\n",
    "        print(txt.read())\n",
    "        \n",
    "ReadAppend('myTxt.txt')"
   ]
  },
  {
   "cell_type": "code",
   "execution_count": 8,
   "metadata": {},
   "outputs": [
    {
     "name": "stdout",
     "output_type": "stream",
     "text": [
      "['In this section, we will use Pythons built-in open function to create a file object,', \" and obtain the data from a txt file. We will use Python's open function to get a file object.\", ' We can apply a method to that object to read data from the file. We use the open function.', ' the first argument is the file path, the second parameter is the mode.', 'End of file']\n"
     ]
    }
   ],
   "source": [
    "#Q7 Write a Python program to remove newline characters from mytxt file\n",
    "\n",
    "def removeNewLines(fileName):\n",
    "    flist = open(fileName).readlines()\n",
    "    return [s.rstrip('\\n') for s in flist]\n",
    "\n",
    "print(removeNewLines(\"myTxt.txt\"))\n"
   ]
  },
  {
   "cell_type": "code",
   "execution_count": 9,
   "metadata": {},
   "outputs": [
    {
     "name": "stdout",
     "output_type": "stream",
     "text": [
      "['function.', 'parameter']\n"
     ]
    }
   ],
   "source": [
    "# Q8 Write a python program to find the longest word in mytxt file\n",
    "\n",
    "def longestWord(filename):\n",
    "    with open(filename, 'r') as infile:\n",
    "              words = infile.read().split()\n",
    "    max_len = len(max(words, key=len))\n",
    "    return [word for word in words if len(word) == max_len]\n",
    "\n",
    "print(longestWord('myTxt.txt'))\n"
   ]
  },
  {
   "cell_type": "code",
   "execution_count": null,
   "metadata": {},
   "outputs": [],
   "source": [
    "#Q9  Write a Python program to count the frequency \"We\" in mytxt file\n",
    "\n",
    "from collections import Counter\n",
    "\n",
    "def wordCount(filename, var):\n",
    "        with open(filename) as f:\n",
    "                x = Counter(f.read().split())\n",
    "                return x[var]\n",
    "\n",
    "var = input(\"What word are you looking for: \")\n",
    "print(\"Frequency of word\", var, \"in the file :\", wordCount(\"myTxt.txt\", var))"
   ]
  },
  {
   "cell_type": "code",
   "execution_count": 64,
   "metadata": {},
   "outputs": [
    {
     "data": {
      "text/plain": [
       "34"
      ]
     },
     "execution_count": 64,
     "metadata": {},
     "output_type": "execute_result"
    }
   ],
   "source": [
    "#Q10 Write a Python program to build a sign_Up and login forms for users. \n",
    "#Your program should validate/authenticate entered credentials for existing users or create new accounts for new users\n",
    "#1 Create \"Credentials.txt\" file\n",
    "#2 Add the following information into your Credentials.txt file <Name, Password>\n",
    "    # Sarah,12ssr\n",
    "    # Lisa,pass\n",
    "    # Donna,D00N\n",
    "#3 Create login function that takes two inputs (name,password)\n",
    "    #3.1 Ask the user to enter their username and password\n",
    "    #3.2 search if the names exist in the Credentials.txt file\n",
    "        #3.2.1 if the name was found, check if the password is correct\n",
    "        #3.2.2 return \"Welcome <persons name> if the name and password were correct\"\n",
    "        #3.2.3 else return \"wrong name or password\"\n",
    "    #3.2 if the name doesn't exist return \"your name doesn't exist, please create a new account\"\n",
    "#4 Create sign_Up function that takes two inputs(newName,newPassword)\n",
    "    #Ask user to enter their name and password\n",
    "    #append the new information into the Credentials.txt file, follow the same format \"name,password\"\n",
    "#5 Test your program by logging in using the new account\n",
    "\n",
    "\n",
    "myFile = open(\"Credentials.txt\", \"w\")\n",
    "\n",
    "myFile.write('Sarah,12ssr \\nLisa,pass \\nDonna,D00N')\n",
    "\n"
   ]
  },
  {
   "cell_type": "code",
   "execution_count": 65,
   "metadata": {},
   "outputs": [
    {
     "name": "stdout",
     "output_type": "stream",
     "text": [
      "['Sarah,12ssr \\n', 'Lisa,pass \\n', 'Donna,D00N']\n"
     ]
    },
    {
     "data": {
      "text/plain": [
       "<function print>"
      ]
     },
     "execution_count": 65,
     "metadata": {},
     "output_type": "execute_result"
    }
   ],
   "source": [
    "myFile = open(\"Credentials.txt\", \"r\")\n",
    "print(myFile.readlines())\n",
    "\n",
    "print"
   ]
  },
  {
   "cell_type": "code",
   "execution_count": 6,
   "metadata": {},
   "outputs": [
    {
     "name": "stdout",
     "output_type": "stream",
     "text": [
      "Enter your username:Gilmara\n",
      "Enter your password:fafas\n",
      "Your name doesn't exist, please create a new account\n",
      "Say yes if you would like to create a new account and no if you wanna exit:\n",
      "yes\n",
      "Enter your username:Gilmara\n",
      "Enter your password:abacaxi\n",
      "Congratulations! Username created with success\n"
     ]
    }
   ],
   "source": [
    "#Full code\n",
    "\n",
    "#Function to verify authorization\n",
    "def isAuthorized(username, password):\n",
    "\n",
    "    with open(\"Credentials.txt\", \"r\") as f:\n",
    "        for line in f:\n",
    "            loginInfo = line.strip().split(\",\")\n",
    "            if username == loginInfo[0] and password == loginInfo[1]:\n",
    "                return True\n",
    "        return False\n",
    "\n",
    "    #Function to create a account\n",
    "def sign_Up(newName,newPassword):\n",
    "    with open(\"Credentials.txt\", \"a\") as myfile:\n",
    "        myfile.write('\\n')\n",
    "        myfile.write(username)\n",
    "        myfile.write(',')\n",
    "        myfile.write(password)\n",
    "    print(\"Congratulations! Username created with success\")\n",
    "\n",
    "    \n",
    "\n",
    "    \n",
    "username = input(\"Enter your username:\").strip(' /n')\n",
    "password = input(\"Enter your password:\").strip(' /n')\n",
    "\n",
    "\n",
    "if isAuthorized(username, password):\n",
    "    print(\"Welcome\", username)\n",
    "\n",
    "elif username not in open(\"Credentials.txt\").read():\n",
    "    print(\"Your name doesn't exist, please create a new account\")\n",
    "    decision = input(\"Say yes if you would like to create a new account and no if you wanna exit:\\n\")\n",
    "    if decision == 'yes':\n",
    "        username = input(\"Enter your username:\")\n",
    "        password = input(\"Enter your password:\")       \n",
    "        sign_Up(username, password)\n",
    "    else:\n",
    "        print(\"Thank you!\")\n",
    "else:\n",
    "    print(\"Wrong password\")\n",
    "     \n",
    "\n",
    "\n",
    "      "
   ]
  },
  {
   "cell_type": "code",
   "execution_count": null,
   "metadata": {},
   "outputs": [],
   "source": [
    "#4 Create sign_Up function that takes two inputs(newName,newPassword)\n",
    "    #Ask user to enter their name and password\n",
    "    #append the new information into the Credentials.txt file, follow the same format \"name,password\"\n",
    "\n",
    "    #writting the peace of code separately for testing purposes\n",
    "    \n",
    "    \n",
    "def sign_Up(newName,newPassword):\n",
    "    with open(\"Credentials.txt\", \"a\") as myfile:\n",
    "        myfile.write('\\n')\n",
    "        myfile.write(username)\n",
    "        myfile.write(',')\n",
    "        myfile.write(password)\n",
    "    print(\"Congratulations! Username created with success\")\n",
    "\n",
    "username = input(\"Enter your username:\")\n",
    "password = input(\"Enter your password:\")       \n",
    "sign_Up(username, password)\n",
    "    "
   ]
  },
  {
   "cell_type": "code",
   "execution_count": null,
   "metadata": {},
   "outputs": [],
   "source": []
  }
 ],
 "metadata": {
  "kernelspec": {
   "display_name": "Python 3",
   "language": "python",
   "name": "python3"
  },
  "language_info": {
   "codemirror_mode": {
    "name": "ipython",
    "version": 3
   },
   "file_extension": ".py",
   "mimetype": "text/x-python",
   "name": "python",
   "nbconvert_exporter": "python",
   "pygments_lexer": "ipython3",
   "version": "3.8.5"
  }
 },
 "nbformat": 4,
 "nbformat_minor": 4
}
