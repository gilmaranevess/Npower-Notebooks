{
 "cells": [
  {
   "cell_type": "code",
   "execution_count": 2,
   "metadata": {},
   "outputs": [
    {
     "data": {
      "text/plain": [
       "14"
      ]
     },
     "execution_count": 2,
     "metadata": {},
     "output_type": "execute_result"
    }
   ],
   "source": [
    "#Q1 Write Python function that takes two inputs and return their sum value\n",
    "\n",
    "def takeInputs(x, y):\n",
    "    InputSum = x+y\n",
    "    return InputSum\n",
    "\n",
    "takeInputs(4, 10)"
   ]
  },
  {
   "cell_type": "code",
   "execution_count": 6,
   "metadata": {},
   "outputs": [
    {
     "name": "stdout",
     "output_type": "stream",
     "text": [
      "32 in Celsius degrees is equal to: 89.6 in Fahrenheit\n"
     ]
    }
   ],
   "source": [
    "#Q2 Write Python function the takes a celsius temprature and converts it into fahrenheit \n",
    "\n",
    "def takeCelsius(Celsius):\n",
    "    Fahrenheit = (Celsius * 9/5) + 32\n",
    "    return Fahrenheit\n",
    "\n",
    "temp = 32\n",
    "print(temp, \"in Celsius degrees is equal to:\", takeCelsius(temp), \"in Fahrenheit\")"
   ]
  },
  {
   "cell_type": "code",
   "execution_count": 19,
   "metadata": {},
   "outputs": [
    {
     "name": "stdout",
     "output_type": "stream",
     "text": [
      "The Max value among 80 10 45 is: 80\n"
     ]
    }
   ],
   "source": [
    "#Q3 Write a Python function to find the Max of three numbers\n",
    "\n",
    "def findMax(x, y, z):\n",
    "    if y<x>z:\n",
    "        return x\n",
    "    elif x<y>z:\n",
    "        return y\n",
    "    else:\n",
    "        return z\n",
    "    \n",
    "num1= 80\n",
    "num2 = 10\n",
    "num3 = 45\n",
    "\n",
    "print(\"The Max value among\", num1, num2, num3, \"is:\", findMax(num1, num2, num3))"
   ]
  },
  {
   "cell_type": "code",
   "execution_count": 26,
   "metadata": {},
   "outputs": [
    {
     "name": "stdout",
     "output_type": "stream",
     "text": [
      "The number 12 is in the range:\n"
     ]
    }
   ],
   "source": [
    "#Q4 Write a Python function to check whether a number is in a given range [5,12]\n",
    "\n",
    "rangeGiven = [5,12]\n",
    "\n",
    "def checkRange(num):\n",
    "    if num in rangeGiven:\n",
    "        print(\"The number\", num, \"is in the range:\")\n",
    "        \n",
    "    else:\n",
    "        print(\"The number\", num, \"is not in the range\")\n",
    "        \n",
    "x = 12\n",
    "checkRange(x)"
   ]
  },
  {
   "cell_type": "code",
   "execution_count": 29,
   "metadata": {},
   "outputs": [
    {
     "name": "stdout",
     "output_type": "stream",
     "text": [
      "The original list is: [1, 2, 3, 3, 3, 3, 4, 5]\n",
      "List converted into a set: {1, 2, 3, 4, 5}\n"
     ]
    }
   ],
   "source": [
    "#Q5 Write a Python function that takes a list and returns a new list with unique elements of the first\n",
    "#Sample_List : [1,2,3,3,3,3,4,5]\n",
    "\n",
    "Sample_List = [1,2,3,3,3,3,4,5]\n",
    "\n",
    "def setList(list):\n",
    "    newList = set(list)\n",
    "    return newList\n",
    "\n",
    "print(\"The original list is:\", Sample_List)\n",
    "print(\"List converted into a set:\", setList(Sample_List))"
   ]
  },
  {
   "cell_type": "code",
   "execution_count": 45,
   "metadata": {},
   "outputs": [
    {
     "name": "stdout",
     "output_type": "stream",
     "text": [
      "In the list: [1, 2, 5, 4, 1] The first and last number is the same. Statement is: True\n",
      "In the list: [5, 6, 3, 2, 1] The first and last number is the same. Statement is: False\n",
      "In the list: [88, 44, 55, 66, 77, 88] The first and last number is the same. Statement is: True\n"
     ]
    }
   ],
   "source": [
    "#Q6 Given a list of numbers, return True if first and last number of a list is same\n",
    "#list1=[1,2,5,4,1]\n",
    "#list2=[5,6,3,2,1]\n",
    "#list3=[88,44,55,66,77,88]\n",
    "\n",
    "list1=[1,2,5,4,1]\n",
    "list2=[5,6,3,2,1]\n",
    "list3=[88,44,55,66,77,88]\n",
    "\n",
    "listMother = [list1, list2, list3]\n",
    "#print(listMother)\n",
    "\n",
    "def checkF_L(lst):\n",
    "    if lst[len(lst)-1] == lst[0]:\n",
    "        return True\n",
    "    else:\n",
    "        return False\n",
    "\n",
    "for i in listMother:\n",
    "    print(\"In the list:\", i, \"The first and last number is the same. Statement is:\", checkF_L(i))\n"
   ]
  },
  {
   "cell_type": "code",
   "execution_count": null,
   "metadata": {},
   "outputs": [],
   "source": []
  }
 ],
 "metadata": {
  "kernelspec": {
   "display_name": "Python 3",
   "language": "python",
   "name": "python3"
  },
  "language_info": {
   "codemirror_mode": {
    "name": "ipython",
    "version": 3
   },
   "file_extension": ".py",
   "mimetype": "text/x-python",
   "name": "python",
   "nbconvert_exporter": "python",
   "pygments_lexer": "ipython3",
   "version": "3.8.5"
  }
 },
 "nbformat": 4,
 "nbformat_minor": 4
}
